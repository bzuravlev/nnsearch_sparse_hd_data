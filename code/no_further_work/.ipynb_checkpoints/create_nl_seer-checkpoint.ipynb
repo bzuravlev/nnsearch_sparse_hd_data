{
 "cells": [
  {
   "cell_type": "code",
   "execution_count": 1,
   "id": "225fcbd6-15ad-412f-97dd-34376ce75477",
   "metadata": {
    "tags": []
   },
   "outputs": [],
   "source": [
    "import numpy as np\n",
    "import scipy.io as sio\n",
    "from scipy.sparse import lil_matrix\n",
    "import scipy.sparse as sp\n",
    "import matplotlib.pyplot as plt\n",
    "from sklearn.preprocessing import normalize\n",
    "import json\n",
    "\n",
    "import time\n",
    "from time import perf_counter\n",
    "import sklearn.metrics as skmet\n",
    "from SEER.seer import seer"
   ]
  },
  {
   "cell_type": "code",
   "execution_count": 2,
   "id": "e3f4535b-f32b-4733-a713-30fec5b7583e",
   "metadata": {
    "tags": []
   },
   "outputs": [],
   "source": [
    "with open(\"./config.json\") as c:\n",
    "            config = json.load(c)\n",
    "            nl_summer_raw_path = config[\"nl_summer_raw\"]\n",
    "            nl_spring_raw_path = config[\"nl_spring_raw\"]\n",
    "            nl_winter_raw_path = config[\"nl_winter_raw\"]\n",
    "            nl_fall_raw_path = config[\"nl_fall_raw\"]\n",
    "            \n",
    "            nl_summer_mat_path = config[\"nl_summer_matrix\"]\n",
    "            nl_spring_mat_path = config[\"nl_spring_matrix\"]\n",
    "            nl_winter_mat_path = config[\"nl_winter_matrix\"]\n",
    "            nl_fall_mat_path = config[\"nl_fall_matrix\"]\n",
    "            \n",
    "            nl_summer_seer_path = config[\"nl_summer_seer\"]\n",
    "            nl_spring_seer_path = config[\"nl_spring_seer\"]\n",
    "            nl_winter_seer_path = config[\"nl_winter_seer\"]\n",
    "            nl_fall_seer_path = config[\"nl_fall_seer\"]"
   ]
  },
  {
   "cell_type": "code",
   "execution_count": 3,
   "id": "54dfede6-511c-48ff-bd98-903ca996053a",
   "metadata": {
    "tags": []
   },
   "outputs": [],
   "source": [
    "def print_gs_matrix(matrix):\n",
    "    plt.imshow(matrix, cmap='gray')\n",
    "    plt.colorbar()\n",
    "    plt.show()"
   ]
  },
  {
   "cell_type": "code",
   "execution_count": 27,
   "id": "1da01d44-47d7-453a-83b1-2487c02b823e",
   "metadata": {
    "tags": []
   },
   "outputs": [],
   "source": [
    "#summer_raw = np.load(nl_summer_raw_path)\n",
    "spring_raw = np.load(nl_spring_raw_path)\n",
    "winter_raw = np.load(nl_winter_raw_path)\n",
    "#fall_raw = np.load(nl_fall_raw_path)"
   ]
  },
  {
   "cell_type": "code",
   "execution_count": 16,
   "id": "8d5fde20-e409-4e35-95f5-bb01120ba545",
   "metadata": {
    "tags": []
   },
   "outputs": [
    {
     "data": {
      "text/plain": [
       "(5483,)"
      ]
     },
     "execution_count": 16,
     "metadata": {},
     "output_type": "execute_result"
    }
   ],
   "source": [
    "spring_raw[0].shape"
   ]
  },
  {
   "cell_type": "code",
   "execution_count": 21,
   "id": "9bd18c55-737f-49ca-bde4-e8264309cf6f",
   "metadata": {
    "tags": []
   },
   "outputs": [],
   "source": [
    "M_spring = None\n",
    "k = 50 #number of needed exemplars, default 50\n",
    "lambda_val = 2 #default is 2"
   ]
  },
  {
   "cell_type": "code",
   "execution_count": 22,
   "id": "5907d448-830f-452d-a787-2219e3df238b",
   "metadata": {
    "tags": []
   },
   "outputs": [
    {
     "name": "stdout",
     "output_type": "stream",
     "text": [
      "expectedSim:  0.036476381542950936\n",
      "  running image 1 of 600 (0 exemplars) \n",
      "  running image 11 of 600 (401 exemplars) \n",
      "  running image 21 of 600 (799 exemplars) \n",
      "  running image 31 of 600 (1078 exemplars) \n",
      "  running image 41 of 600 (1332 exemplars) \n",
      "  running image 51 of 600 (1730 exemplars) \n",
      "  running image 61 of 600 (2188 exemplars) \n",
      "  running image 71 of 600 (2535 exemplars) \n",
      "  running image 81 of 600 (2916 exemplars) \n",
      "  running image 91 of 600 (3112 exemplars) \n",
      "  running image 101 of 600 (3410 exemplars) \n",
      "  running image 111 of 600 (3751 exemplars) \n",
      "  running image 121 of 600 (4125 exemplars) \n",
      "  running image 131 of 600 (4498 exemplars) \n",
      "  running image 141 of 600 (4857 exemplars) \n",
      "  running image 151 of 600 (5271 exemplars) \n",
      "  running image 161 of 600 (5751 exemplars) \n",
      "  running image 171 of 600 (6117 exemplars) \n",
      "  running image 181 of 600 (6486 exemplars) \n",
      "  running image 191 of 600 (6807 exemplars) \n",
      "  running image 201 of 600 (7168 exemplars) \n",
      "  running image 211 of 600 (7365 exemplars) \n",
      "  running image 221 of 600 (7643 exemplars) \n",
      "  running image 231 of 600 (7901 exemplars) \n",
      "  running image 241 of 600 (8343 exemplars) \n",
      "  running image 251 of 600 (8621 exemplars) \n",
      "  running image 261 of 600 (9020 exemplars) \n",
      "  running image 271 of 600 (9450 exemplars) \n",
      "  running image 281 of 600 (9890 exemplars) \n",
      "  running image 291 of 600 (10239 exemplars) \n",
      "  running image 301 of 600 (10533 exemplars) \n",
      "  running image 311 of 600 (10756 exemplars) \n",
      "  running image 321 of 600 (10994 exemplars) \n",
      "  running image 331 of 600 (11396 exemplars) \n",
      "  running image 341 of 600 (11756 exemplars) \n",
      "  running image 351 of 600 (11870 exemplars) \n",
      "  running image 361 of 600 (12041 exemplars) \n",
      "  running image 371 of 600 (12417 exemplars) \n",
      "  running image 381 of 600 (12560 exemplars) \n",
      "  running image 391 of 600 (12813 exemplars) \n",
      "  running image 401 of 600 (13120 exemplars) \n",
      "  running image 411 of 600 (13269 exemplars) \n",
      "  running image 421 of 600 (13654 exemplars) \n",
      "  running image 431 of 600 (13959 exemplars) \n",
      "  running image 441 of 600 (14198 exemplars) \n",
      "  running image 451 of 600 (14529 exemplars) \n",
      "  running image 461 of 600 (14907 exemplars) \n",
      "  running image 471 of 600 (15168 exemplars) \n",
      "  running image 481 of 600 (15641 exemplars) \n",
      "  running image 491 of 600 (15909 exemplars) \n",
      "  running image 501 of 600 (16147 exemplars) \n",
      "  running image 511 of 600 (16315 exemplars) \n",
      "  running image 521 of 600 (16516 exemplars) \n",
      "  running image 531 of 600 (16736 exemplars) \n",
      "  running image 541 of 600 (16897 exemplars) \n",
      "  running image 551 of 600 (17105 exemplars) \n",
      "  running image 561 of 600 (17446 exemplars) \n",
      "  running image 571 of 600 (17815 exemplars) \n",
      "  running image 581 of 600 (18030 exemplars) \n",
      "  running image 591 of 600 (18325 exemplars) \n",
      "Duration creation M: 46.83412779199716 seconds\n"
     ]
    }
   ],
   "source": [
    "nl_spring_seer = seer()\n",
    "start = perf_counter()\n",
    "M_spring, DS_spring = nl_spring_seer.compute_M_and_Y(M_spring, spring_raw , 200, k, lambda_val)\n",
    "end = perf_counter()\n",
    "duration = end - start\n",
    "print(f\"Duration creation M: {duration} seconds\")"
   ]
  },
  {
   "cell_type": "code",
   "execution_count": 23,
   "id": "b86ad0ff-6950-4f4f-be93-bede27a206a8",
   "metadata": {
    "tags": []
   },
   "outputs": [
    {
     "data": {
      "text/plain": [
       "3710200"
      ]
     },
     "execution_count": 23,
     "metadata": {},
     "output_type": "execute_result"
    }
   ],
   "source": [
    "np.count_nonzero(M_spring)"
   ]
  },
  {
   "cell_type": "code",
   "execution_count": 30,
   "id": "aada440c-150d-4a4b-be66-20f776ee7609",
   "metadata": {
    "tags": []
   },
   "outputs": [],
   "source": [
    "Q_spring_winter = nl_spring_seer.compute_seer_descriptors(winter_raw, M_spring, lambda_val, k)"
   ]
  },
  {
   "cell_type": "code",
   "execution_count": 9,
   "id": "4be06a7b-8e02-4022-b2ec-70d5541ee0dd",
   "metadata": {
    "tags": []
   },
   "outputs": [],
   "source": [
    "nl_summer_seer.save_matrix_to_file(Q_spring_summer, './data/nordland/seer/q_spring_m_summer')"
   ]
  },
  {
   "cell_type": "code",
   "execution_count": 29,
   "id": "f77cd98f-15df-4630-b2db-6e0b3fd1b444",
   "metadata": {
    "tags": []
   },
   "outputs": [
    {
     "data": {
      "text/plain": [
       "(5483, 18551)"
      ]
     },
     "execution_count": 29,
     "metadata": {},
     "output_type": "execute_result"
    }
   ],
   "source": [
    "M_spring.shape"
   ]
  },
  {
   "cell_type": "code",
   "execution_count": 11,
   "id": "71edbbe5-42fd-4a48-830c-838fd0379d7d",
   "metadata": {
    "tags": []
   },
   "outputs": [
    {
     "data": {
      "text/plain": [
       "<600x706 sparse matrix of type '<class 'numpy.float64'>'\n",
       "\twith 59157 stored elements in COOrdinate format>"
      ]
     },
     "execution_count": 11,
     "metadata": {},
     "output_type": "execute_result"
    }
   ],
   "source": [
    "DS_summer"
   ]
  },
  {
   "cell_type": "code",
   "execution_count": 12,
   "id": "4e79458b-01e7-4a5b-8bd3-21b7ea5f45d6",
   "metadata": {
    "tags": []
   },
   "outputs": [
    {
     "data": {
      "text/plain": [
       "<600x706 sparse matrix of type '<class 'numpy.float32'>'\n",
       "\twith 60000 stored elements in List of Lists format>"
      ]
     },
     "execution_count": 12,
     "metadata": {},
     "output_type": "execute_result"
    }
   ],
   "source": [
    "Q_spring_summer"
   ]
  },
  {
   "cell_type": "code",
   "execution_count": 31,
   "id": "19061a05-4033-4057-a4f2-dd928c86122d",
   "metadata": {
    "tags": []
   },
   "outputs": [],
   "source": [
    "nl_spring_seer.save_matrix_to_file(M_spring, nl_spring_mat_path)\n",
    "nl_spring_seer.save_matrix_to_file(DS_spring, nl_spring_seer_path)\n",
    "nl_spring_seer.save_matrix_to_file(Q_spring_winter, './data/nordland/seer/q_winter_m_spring')"
   ]
  },
  {
   "cell_type": "code",
   "execution_count": 40,
   "id": "711fe493-a4f1-477f-bda3-6791c43e41c3",
   "metadata": {},
   "outputs": [
    {
     "name": "stdout",
     "output_type": "stream",
     "text": [
      "expectedSim:  0.06383366770016415\n",
      "  running image 1 of 600 (0 exemplars) \n",
      "  running image 11 of 600 (500 exemplars) \n",
      "  running image 21 of 600 (1000 exemplars) \n",
      "  running image 31 of 600 (1500 exemplars) \n",
      "  running image 41 of 600 (2000 exemplars) \n",
      "  running image 51 of 600 (2500 exemplars) \n",
      "  running image 61 of 600 (3000 exemplars) \n",
      "  running image 71 of 600 (3500 exemplars) \n",
      "  running image 81 of 600 (4000 exemplars) \n",
      "  running image 91 of 600 (4500 exemplars) \n",
      "  running image 101 of 600 (5000 exemplars) \n",
      "  running image 111 of 600 (5500 exemplars) \n",
      "  running image 121 of 600 (6000 exemplars) \n",
      "  running image 131 of 600 (6500 exemplars) \n",
      "  running image 141 of 600 (7000 exemplars) \n",
      "  running image 151 of 600 (7500 exemplars) \n",
      "  running image 161 of 600 (8000 exemplars) \n",
      "  running image 171 of 600 (8500 exemplars) \n",
      "  running image 181 of 600 (9000 exemplars) \n",
      "  running image 191 of 600 (9500 exemplars) \n",
      "  running image 201 of 600 (10000 exemplars) \n",
      "  running image 211 of 600 (10500 exemplars) \n",
      "  running image 221 of 600 (11000 exemplars) \n",
      "  running image 231 of 600 (11500 exemplars) \n",
      "  running image 241 of 600 (12000 exemplars) \n",
      "  running image 251 of 600 (12500 exemplars) \n",
      "  running image 261 of 600 (13000 exemplars) \n",
      "  running image 271 of 600 (13500 exemplars) \n",
      "  running image 281 of 600 (14000 exemplars) \n",
      "  running image 291 of 600 (14500 exemplars) \n",
      "  running image 301 of 600 (15000 exemplars) \n",
      "  running image 311 of 600 (15500 exemplars) \n",
      "  running image 321 of 600 (16000 exemplars) \n",
      "  running image 331 of 600 (16500 exemplars) \n",
      "  running image 341 of 600 (17000 exemplars) \n",
      "  running image 351 of 600 (17500 exemplars) \n",
      "  running image 361 of 600 (18000 exemplars) \n",
      "  running image 371 of 600 (18500 exemplars) \n",
      "  running image 381 of 600 (19000 exemplars) \n",
      "  running image 391 of 600 (19500 exemplars) \n",
      "  running image 401 of 600 (20000 exemplars) \n",
      "  running image 411 of 600 (20500 exemplars) \n",
      "  running image 421 of 600 (21000 exemplars) \n",
      "  running image 431 of 600 (21500 exemplars) \n",
      "  running image 441 of 600 (22000 exemplars) \n",
      "  running image 451 of 600 (22500 exemplars) \n",
      "  running image 461 of 600 (23000 exemplars) \n",
      "  running image 471 of 600 (23500 exemplars) \n",
      "  running image 481 of 600 (24000 exemplars) \n",
      "  running image 491 of 600 (24500 exemplars) \n",
      "  running image 501 of 600 (25000 exemplars) \n",
      "  running image 511 of 600 (25500 exemplars) \n",
      "  running image 521 of 600 (26000 exemplars) \n",
      "  running image 531 of 600 (26500 exemplars) \n",
      "  running image 541 of 600 (27000 exemplars) \n",
      "  running image 551 of 600 (27500 exemplars) \n",
      "  running image 561 of 600 (28000 exemplars) \n",
      "  running image 571 of 600 (28500 exemplars) \n",
      "  running image 581 of 600 (29000 exemplars) \n",
      "  running image 591 of 600 (29500 exemplars) \n",
      "Duration creation M: 81.09977187500044 seconds\n"
     ]
    }
   ],
   "source": [
    "summer_raw = np.load(nl_summer_raw_path)\n",
    "M_summer = None\n",
    "k = 50 #number of needed exemplars, default 50\n",
    "lambda_val = 2 #default is 2\n",
    "nl_summer_seer = seer()\n",
    "start = perf_counter()\n",
    "M_summer, DS_summer = nl_summer_seer.compute_M_and_Y(M_summer, summer_raw , 350, k, lambda_val)\n",
    "end = perf_counter()\n",
    "duration = end - start\n",
    "print(f\"Duration creation M: {duration} seconds\")"
   ]
  },
  {
   "cell_type": "code",
   "execution_count": 38,
   "id": "e0f749af-d0dc-4659-a374-53a1ad98d8ad",
   "metadata": {
    "tags": []
   },
   "outputs": [
    {
     "data": {
      "text/plain": [
       "<600x19218 sparse matrix of type '<class 'numpy.float64'>'\n",
       "\twith 59899 stored elements in COOrdinate format>"
      ]
     },
     "execution_count": 38,
     "metadata": {},
     "output_type": "execute_result"
    }
   ],
   "source": [
    "DS_summer"
   ]
  },
  {
   "cell_type": "code",
   "execution_count": 39,
   "id": "3f33f95d-2ea5-41db-b961-86abd8f84a57",
   "metadata": {
    "tags": []
   },
   "outputs": [],
   "source": [
    "nl_summer_seer.save_matrix_to_file(M_summer, nl_summer_mat_path)\n",
    "nl_summer_seer.save_matrix_to_file(DS_summer, nl_summer_seer_path)"
   ]
  },
  {
   "cell_type": "code",
   "execution_count": null,
   "id": "1f80672a-4da0-488f-b438-0ace8ecc21cd",
   "metadata": {},
   "outputs": [],
   "source": []
  }
 ],
 "metadata": {
  "kernelspec": {
   "display_name": "Python 3 (ipykernel)",
   "language": "python",
   "name": "python3"
  },
  "language_info": {
   "codemirror_mode": {
    "name": "ipython",
    "version": 3
   },
   "file_extension": ".py",
   "mimetype": "text/x-python",
   "name": "python",
   "nbconvert_exporter": "python",
   "pygments_lexer": "ipython3",
   "version": "3.11.5"
  }
 },
 "nbformat": 4,
 "nbformat_minor": 5
}
